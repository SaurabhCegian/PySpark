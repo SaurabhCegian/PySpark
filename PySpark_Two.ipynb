{
  "nbformat": 4,
  "nbformat_minor": 0,
  "metadata": {
    "colab": {
      "name": "PySpark-Two.ipynb",
      "provenance": [],
      "collapsed_sections": [],
      "toc_visible": true
    },
    "kernelspec": {
      "name": "python3",
      "display_name": "Python 3"
    },
    "language_info": {
      "name": "python"
    }
  },
  "cells": [
    {
      "cell_type": "markdown",
      "metadata": {
        "id": "QV_XQuUvXac1"
      },
      "source": [
        "# PySpark Dataframe\n",
        "# Reading the dataset\n",
        "# Checking the datatypes of dataframe column\n",
        "# Selecting column and Indexing\n",
        "# Check describe option and similar to pandas\n",
        "# Adding columns\n",
        "# Droping columns\n",
        "\n"
      ]
    },
    {
      "cell_type": "code",
      "metadata": {
        "colab": {
          "base_uri": "https://localhost:8080/"
        },
        "id": "9DBqrWhAYzYF",
        "outputId": "dd4f230d-578f-4cca-c469-3ce8ec9c34ba"
      },
      "source": [
        "pip install pyspark"
      ],
      "execution_count": 2,
      "outputs": [
        {
          "output_type": "stream",
          "text": [
            "Collecting pyspark\n",
            "\u001b[?25l  Downloading https://files.pythonhosted.org/packages/45/b0/9d6860891ab14a39d4bddf80ba26ce51c2f9dc4805e5c6978ac0472c120a/pyspark-3.1.1.tar.gz (212.3MB)\n",
            "\u001b[K     |████████████████████████████████| 212.3MB 67kB/s \n",
            "\u001b[?25hCollecting py4j==0.10.9\n",
            "\u001b[?25l  Downloading https://files.pythonhosted.org/packages/9e/b6/6a4fb90cd235dc8e265a6a2067f2a2c99f0d91787f06aca4bcf7c23f3f80/py4j-0.10.9-py2.py3-none-any.whl (198kB)\n",
            "\u001b[K     |████████████████████████████████| 204kB 15.5MB/s \n",
            "\u001b[?25hBuilding wheels for collected packages: pyspark\n",
            "  Building wheel for pyspark (setup.py) ... \u001b[?25l\u001b[?25hdone\n",
            "  Created wheel for pyspark: filename=pyspark-3.1.1-py2.py3-none-any.whl size=212767604 sha256=d4d2d5813ab9f49d834d62a7f081232b703b27b64ec07308c6a698eb72b66d15\n",
            "  Stored in directory: /root/.cache/pip/wheels/0b/90/c0/01de724414ef122bd05f056541fb6a0ecf47c7ca655f8b3c0f\n",
            "Successfully built pyspark\n",
            "Installing collected packages: py4j, pyspark\n",
            "Successfully installed py4j-0.10.9 pyspark-3.1.1\n"
          ],
          "name": "stdout"
        }
      ]
    },
    {
      "cell_type": "code",
      "metadata": {
        "colab": {
          "base_uri": "https://localhost:8080/",
          "height": 221
        },
        "id": "5e5h9qqLX2RX",
        "outputId": "d91648ba-e7b2-415c-87c5-cac1133f93f1"
      },
      "source": [
        "from pyspark.sql import SparkSession\n",
        "spark = SparkSession.builder.appName('practise-two').getOrCreate()\n",
        "spark"
      ],
      "execution_count": 4,
      "outputs": [
        {
          "output_type": "execute_result",
          "data": {
            "text/html": [
              "\n",
              "            <div>\n",
              "                <p><b>SparkSession - in-memory</b></p>\n",
              "                \n",
              "        <div>\n",
              "            <p><b>SparkContext</b></p>\n",
              "\n",
              "            <p><a href=\"http://21f50dc0ecac:4040\">Spark UI</a></p>\n",
              "\n",
              "            <dl>\n",
              "              <dt>Version</dt>\n",
              "                <dd><code>v3.1.1</code></dd>\n",
              "              <dt>Master</dt>\n",
              "                <dd><code>local[*]</code></dd>\n",
              "              <dt>AppName</dt>\n",
              "                <dd><code>practise-two</code></dd>\n",
              "            </dl>\n",
              "        </div>\n",
              "        \n",
              "            </div>\n",
              "        "
            ],
            "text/plain": [
              "<pyspark.sql.session.SparkSession at 0x7fc5090ea5d0>"
            ]
          },
          "metadata": {
            "tags": []
          },
          "execution_count": 4
        }
      ]
    },
    {
      "cell_type": "code",
      "metadata": {
        "colab": {
          "base_uri": "https://localhost:8080/"
        },
        "id": "ndrpjlp1YwWS",
        "outputId": "2a979f56-267e-4075-9840-4b80ae68eec2"
      },
      "source": [
        "spark_df = spark.read.option('header','true').csv('/content/pysparkTwo.csv', inferSchema=True)\n",
        "spark_df"
      ],
      "execution_count": 8,
      "outputs": [
        {
          "output_type": "execute_result",
          "data": {
            "text/plain": [
              "DataFrame[Name: string, Age: int, Exp: int]"
            ]
          },
          "metadata": {
            "tags": []
          },
          "execution_count": 8
        }
      ]
    },
    {
      "cell_type": "code",
      "metadata": {
        "colab": {
          "base_uri": "https://localhost:8080/"
        },
        "id": "UHVuLxRKZoNj",
        "outputId": "99c2b336-afc7-487c-a7b7-af9003475334"
      },
      "source": [
        "spark_df.show()"
      ],
      "execution_count": 9,
      "outputs": [
        {
          "output_type": "stream",
          "text": [
            "+-------+---+---+\n",
            "|   Name|Age|Exp|\n",
            "+-------+---+---+\n",
            "|Saurabh| 26|  3|\n",
            "|Shabnam| 23|  1|\n",
            "|  Anjan| 30| 10|\n",
            "+-------+---+---+\n",
            "\n"
          ],
          "name": "stdout"
        }
      ]
    },
    {
      "cell_type": "code",
      "metadata": {
        "colab": {
          "base_uri": "https://localhost:8080/"
        },
        "id": "6vHmtUpraCg5",
        "outputId": "63a24de0-b7ce-4d5e-dad2-2870094ef944"
      },
      "source": [
        "spark_df.printSchema()"
      ],
      "execution_count": 10,
      "outputs": [
        {
          "output_type": "stream",
          "text": [
            "root\n",
            " |-- Name: string (nullable = true)\n",
            " |-- Age: integer (nullable = true)\n",
            " |-- Exp: integer (nullable = true)\n",
            "\n"
          ],
          "name": "stdout"
        }
      ]
    },
    {
      "cell_type": "code",
      "metadata": {
        "colab": {
          "base_uri": "https://localhost:8080/"
        },
        "id": "jylDWRGGZsxE",
        "outputId": "3db7b2c9-f078-42e8-c883-c3b7053e65a9"
      },
      "source": [
        "# Reading the csv file again\n",
        "spark_df = spark.read.csv('/content/pysparkTwo.csv', header=True, inferSchema=True)\n",
        "spark_df.show()"
      ],
      "execution_count": 11,
      "outputs": [
        {
          "output_type": "stream",
          "text": [
            "+-------+---+---+\n",
            "|   Name|Age|Exp|\n",
            "+-------+---+---+\n",
            "|Saurabh| 26|  3|\n",
            "|Shabnam| 23|  1|\n",
            "|  Anjan| 30| 10|\n",
            "+-------+---+---+\n",
            "\n"
          ],
          "name": "stdout"
        }
      ]
    },
    {
      "cell_type": "code",
      "metadata": {
        "colab": {
          "base_uri": "https://localhost:8080/"
        },
        "id": "2s21wnIpbEw8",
        "outputId": "9e9ad650-c609-4c45-e63f-169b00a3ff3c"
      },
      "source": [
        "type(spark_df)"
      ],
      "execution_count": 12,
      "outputs": [
        {
          "output_type": "execute_result",
          "data": {
            "text/plain": [
              "pyspark.sql.dataframe.DataFrame"
            ]
          },
          "metadata": {
            "tags": []
          },
          "execution_count": 12
        }
      ]
    },
    {
      "cell_type": "code",
      "metadata": {
        "colab": {
          "base_uri": "https://localhost:8080/"
        },
        "id": "Flfw_TjkbNLp",
        "outputId": "52b2b886-5e38-4b10-97ee-a357de22d69f"
      },
      "source": [
        "#selecting the column\n",
        "spark_df.select('Name').show()"
      ],
      "execution_count": 13,
      "outputs": [
        {
          "output_type": "stream",
          "text": [
            "+-------+\n",
            "|   Name|\n",
            "+-------+\n",
            "|Saurabh|\n",
            "|Shabnam|\n",
            "|  Anjan|\n",
            "+-------+\n",
            "\n"
          ],
          "name": "stdout"
        }
      ]
    },
    {
      "cell_type": "code",
      "metadata": {
        "colab": {
          "base_uri": "https://localhost:8080/"
        },
        "id": "sMmlk2i1cEzH",
        "outputId": "4c008c4f-c9f0-4517-d3a7-ebbd6c377cc1"
      },
      "source": [
        "#Selecting the two column\n",
        "spark_df.select(['Name','Exp']).show()"
      ],
      "execution_count": 14,
      "outputs": [
        {
          "output_type": "stream",
          "text": [
            "+-------+---+\n",
            "|   Name|Exp|\n",
            "+-------+---+\n",
            "|Saurabh|  3|\n",
            "|Shabnam|  1|\n",
            "|  Anjan| 10|\n",
            "+-------+---+\n",
            "\n"
          ],
          "name": "stdout"
        }
      ]
    },
    {
      "cell_type": "code",
      "metadata": {
        "colab": {
          "base_uri": "https://localhost:8080/"
        },
        "id": "kUAqQhcUcZKU",
        "outputId": "5a85f498-f936-4f69-be02-18e0db60eff6"
      },
      "source": [
        "#column type\n",
        "spark_df.dtypes"
      ],
      "execution_count": 17,
      "outputs": [
        {
          "output_type": "execute_result",
          "data": {
            "text/plain": [
              "[('Name', 'string'), ('Age', 'int'), ('Exp', 'int')]"
            ]
          },
          "metadata": {
            "tags": []
          },
          "execution_count": 17
        }
      ]
    },
    {
      "cell_type": "code",
      "metadata": {
        "colab": {
          "base_uri": "https://localhost:8080/"
        },
        "id": "rGDNQoO_cj8b",
        "outputId": "4130fe21-6617-4246-bea2-3f2ca9ac8a7c"
      },
      "source": [
        "#Describe spark dataframe\n",
        "spark_df.describe().show()"
      ],
      "execution_count": 19,
      "outputs": [
        {
          "output_type": "stream",
          "text": [
            "+-------+-------+------------------+-----------------+\n",
            "|summary|   Name|               Age|              Exp|\n",
            "+-------+-------+------------------+-----------------+\n",
            "|  count|      3|                 3|                3|\n",
            "|   mean|   null|26.333333333333332|4.666666666666667|\n",
            "| stddev|   null|3.5118845842842465|4.725815626252609|\n",
            "|    min|  Anjan|                23|                1|\n",
            "|    max|Shabnam|                30|               10|\n",
            "+-------+-------+------------------+-----------------+\n",
            "\n"
          ],
          "name": "stdout"
        }
      ]
    },
    {
      "cell_type": "code",
      "metadata": {
        "colab": {
          "base_uri": "https://localhost:8080/"
        },
        "id": "MY35XZg6cxZ4",
        "outputId": "cec93d9c-6765-4acd-86a3-b1b07e347d17"
      },
      "source": [
        "#Add column in spark dataframe\n",
        "spark_df = spark_df.withColumn('Exp After Two Year', spark_df['Exp']+2)\n",
        "spark_df.show()"
      ],
      "execution_count": 25,
      "outputs": [
        {
          "output_type": "stream",
          "text": [
            "+-------+---+---+------------------+\n",
            "|   Name|Age|Exp|Exp After Two Year|\n",
            "+-------+---+---+------------------+\n",
            "|Saurabh| 26|  3|                 5|\n",
            "|Shabnam| 23|  1|                 3|\n",
            "|  Anjan| 30| 10|                12|\n",
            "+-------+---+---+------------------+\n",
            "\n"
          ],
          "name": "stdout"
        }
      ]
    },
    {
      "cell_type": "code",
      "metadata": {
        "id": "H_7lCE4jdSrJ"
      },
      "source": [
        "#Drop the column\n",
        "spark_df = spark_df.drop('Exp After Two Year')"
      ],
      "execution_count": 30,
      "outputs": []
    },
    {
      "cell_type": "code",
      "metadata": {
        "colab": {
          "base_uri": "https://localhost:8080/"
        },
        "id": "1PIvCTMneeR_",
        "outputId": "7bd7e918-7e5e-4f46-be39-c36a4c6fb836"
      },
      "source": [
        "spark_df.show()"
      ],
      "execution_count": 31,
      "outputs": [
        {
          "output_type": "stream",
          "text": [
            "+-------+---+---+\n",
            "|   Name|Age|Exp|\n",
            "+-------+---+---+\n",
            "|Saurabh| 26|  3|\n",
            "|Shabnam| 23|  1|\n",
            "|  Anjan| 30| 10|\n",
            "+-------+---+---+\n",
            "\n"
          ],
          "name": "stdout"
        }
      ]
    },
    {
      "cell_type": "code",
      "metadata": {
        "colab": {
          "base_uri": "https://localhost:8080/"
        },
        "id": "h2WEuf_WeiHM",
        "outputId": "956b0f77-9d3c-4a47-d677-a3c8d0be73a4"
      },
      "source": [
        "#Rename the column\n",
        "spark_df.withColumnRenamed('Exp', 'Experience').show()"
      ],
      "execution_count": 32,
      "outputs": [
        {
          "output_type": "stream",
          "text": [
            "+-------+---+----------+\n",
            "|   Name|Age|Experience|\n",
            "+-------+---+----------+\n",
            "|Saurabh| 26|         3|\n",
            "|Shabnam| 23|         1|\n",
            "|  Anjan| 30|        10|\n",
            "+-------+---+----------+\n",
            "\n"
          ],
          "name": "stdout"
        }
      ]
    },
    {
      "cell_type": "code",
      "metadata": {
        "id": "z3BTGgTLe2nD"
      },
      "source": [
        ""
      ],
      "execution_count": null,
      "outputs": []
    }
  ]
}