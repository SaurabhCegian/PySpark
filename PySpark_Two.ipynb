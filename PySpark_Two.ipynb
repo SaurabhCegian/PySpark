{
  "nbformat": 4,
  "nbformat_minor": 0,
  "metadata": {
    "colab": {
      "name": "PySpark-Two.ipynb",
      "provenance": [],
      "collapsed_sections": [],
      "toc_visible": true
    },
    "kernelspec": {
      "name": "python3",
      "display_name": "Python 3"
    },
    "language_info": {
      "name": "python"
    }
  },
  "cells": [
    {
      "cell_type": "markdown",
      "metadata": {
        "id": "QV_XQuUvXac1"
      },
      "source": [
        "# PySpark Dataframe\n",
        "# Reading the dataset\n",
        "# Checking the datatypes of dataframe column\n",
        "# Selecting column and Indexing\n",
        "# Check describe option and similar to pandas\n",
        "# Adding columns\n",
        "# Droping columns\n",
        "\n"
      ]
    },
    {
      "cell_type": "code",
      "metadata": {
        "colab": {
          "base_uri": "https://localhost:8080/"
        },
        "id": "9DBqrWhAYzYF",
        "outputId": "a14422f7-4839-4b40-ba40-3f0d35f27afb"
      },
      "source": [
        "pip install pyspark"
      ],
      "execution_count": null,
      "outputs": [
        {
          "output_type": "stream",
          "text": [
            "Requirement already satisfied: pyspark in /usr/local/lib/python3.7/dist-packages (3.1.1)\n",
            "Requirement already satisfied: py4j==0.10.9 in /usr/local/lib/python3.7/dist-packages (from pyspark) (0.10.9)\n"
          ],
          "name": "stdout"
        }
      ]
    },
    {
      "cell_type": "code",
      "metadata": {
        "colab": {
          "base_uri": "https://localhost:8080/",
          "height": 221
        },
        "id": "5e5h9qqLX2RX",
        "outputId": "671b1003-b382-4f50-c874-5a4befe4b1b7"
      },
      "source": [
        "from pyspark.sql import SparkSession\n",
        "spark = SparkSession.builder.appName('practise-two').getOrCreate()\n",
        "spark"
      ],
      "execution_count": null,
      "outputs": [
        {
          "output_type": "execute_result",
          "data": {
            "text/html": [
              "\n",
              "            <div>\n",
              "                <p><b>SparkSession - in-memory</b></p>\n",
              "                \n",
              "        <div>\n",
              "            <p><b>SparkContext</b></p>\n",
              "\n",
              "            <p><a href=\"http://f6c6ac0bde73:4040\">Spark UI</a></p>\n",
              "\n",
              "            <dl>\n",
              "              <dt>Version</dt>\n",
              "                <dd><code>v3.1.1</code></dd>\n",
              "              <dt>Master</dt>\n",
              "                <dd><code>local[*]</code></dd>\n",
              "              <dt>AppName</dt>\n",
              "                <dd><code>practise-two</code></dd>\n",
              "            </dl>\n",
              "        </div>\n",
              "        \n",
              "            </div>\n",
              "        "
            ],
            "text/plain": [
              "<pyspark.sql.session.SparkSession at 0x7f4d5451f950>"
            ]
          },
          "metadata": {
            "tags": []
          },
          "execution_count": 18
        }
      ]
    },
    {
      "cell_type": "code",
      "metadata": {
        "colab": {
          "base_uri": "https://localhost:8080/"
        },
        "id": "ndrpjlp1YwWS",
        "outputId": "225f6c4d-d0be-4ba0-8560-de4b6b9b4aee"
      },
      "source": [
        "spark_df = spark.read.option('header','true').csv('/content/pysparkTwo.csv', inferSchema=True)\n",
        "spark_df"
      ],
      "execution_count": null,
      "outputs": [
        {
          "output_type": "execute_result",
          "data": {
            "text/plain": [
              "DataFrame[Name: string, Age: int, Exp: int]"
            ]
          },
          "metadata": {
            "tags": []
          },
          "execution_count": 56
        }
      ]
    },
    {
      "cell_type": "code",
      "metadata": {
        "colab": {
          "base_uri": "https://localhost:8080/"
        },
        "id": "UHVuLxRKZoNj",
        "outputId": "678f5ecd-1526-4613-b75b-7194878fbc7b"
      },
      "source": [
        "spark_df.show()"
      ],
      "execution_count": null,
      "outputs": [
        {
          "output_type": "stream",
          "text": [
            "+-------+---+---+\n",
            "|   Name|Age|Exp|\n",
            "+-------+---+---+\n",
            "|Saurabh| 26|  3|\n",
            "|Shabnam| 23|  1|\n",
            "|  Anjan| 30| 10|\n",
            "+-------+---+---+\n",
            "\n"
          ],
          "name": "stdout"
        }
      ]
    },
    {
      "cell_type": "code",
      "metadata": {
        "colab": {
          "base_uri": "https://localhost:8080/"
        },
        "id": "6vHmtUpraCg5",
        "outputId": "a21b93a6-8a1c-45f1-cf73-d85d51f2dd22"
      },
      "source": [
        "spark_df.printSchema()"
      ],
      "execution_count": null,
      "outputs": [
        {
          "output_type": "stream",
          "text": [
            "root\n",
            " |-- Name: string (nullable = true)\n",
            " |-- Age: integer (nullable = true)\n",
            " |-- Exp: integer (nullable = true)\n",
            "\n"
          ],
          "name": "stdout"
        }
      ]
    },
    {
      "cell_type": "code",
      "metadata": {
        "colab": {
          "base_uri": "https://localhost:8080/"
        },
        "id": "jylDWRGGZsxE",
        "outputId": "768a24c7-1f9e-4e58-ac8d-4259a23054d8"
      },
      "source": [
        "# Reading the csv file again\n",
        "spark_df = spark.read.csv('/content/pysparkTwo.csv', header=True, inferSchema=True)\n",
        "spark_df.show()"
      ],
      "execution_count": null,
      "outputs": [
        {
          "output_type": "stream",
          "text": [
            "+-------+---+---+\n",
            "|   Name|Age|Exp|\n",
            "+-------+---+---+\n",
            "|Saurabh| 26|  3|\n",
            "|Shabnam| 23|  1|\n",
            "|  Anjan| 30| 10|\n",
            "+-------+---+---+\n",
            "\n"
          ],
          "name": "stdout"
        }
      ]
    },
    {
      "cell_type": "code",
      "metadata": {
        "colab": {
          "base_uri": "https://localhost:8080/"
        },
        "id": "2s21wnIpbEw8",
        "outputId": "8b1cc79b-0635-4ecf-c0ee-3d528d622e3b"
      },
      "source": [
        "type(spark_df)"
      ],
      "execution_count": null,
      "outputs": [
        {
          "output_type": "execute_result",
          "data": {
            "text/plain": [
              "pyspark.sql.dataframe.DataFrame"
            ]
          },
          "metadata": {
            "tags": []
          },
          "execution_count": 23
        }
      ]
    },
    {
      "cell_type": "code",
      "metadata": {
        "colab": {
          "base_uri": "https://localhost:8080/"
        },
        "id": "Flfw_TjkbNLp",
        "outputId": "7cccc0d9-b808-455d-db89-9b358300c678"
      },
      "source": [
        "#selecting the column\n",
        "spark_df.select('Name').show()"
      ],
      "execution_count": null,
      "outputs": [
        {
          "output_type": "stream",
          "text": [
            "+-------+\n",
            "|   Name|\n",
            "+-------+\n",
            "|Saurabh|\n",
            "|Shabnam|\n",
            "|  Anjan|\n",
            "+-------+\n",
            "\n"
          ],
          "name": "stdout"
        }
      ]
    },
    {
      "cell_type": "code",
      "metadata": {
        "colab": {
          "base_uri": "https://localhost:8080/"
        },
        "id": "sMmlk2i1cEzH",
        "outputId": "46b5fa61-85c4-4c19-94cd-403b09de8eb2"
      },
      "source": [
        "#Selecting the two column\n",
        "spark_df.select(['Name','Exp']).show()"
      ],
      "execution_count": null,
      "outputs": [
        {
          "output_type": "stream",
          "text": [
            "+-------+---+\n",
            "|   Name|Exp|\n",
            "+-------+---+\n",
            "|Saurabh|  3|\n",
            "|Shabnam|  1|\n",
            "|  Anjan| 10|\n",
            "+-------+---+\n",
            "\n"
          ],
          "name": "stdout"
        }
      ]
    },
    {
      "cell_type": "code",
      "metadata": {
        "colab": {
          "base_uri": "https://localhost:8080/"
        },
        "id": "kUAqQhcUcZKU",
        "outputId": "18881436-f01c-413e-ddee-91ed47c9a17f"
      },
      "source": [
        "#column type\n",
        "spark_df.dtypes"
      ],
      "execution_count": null,
      "outputs": [
        {
          "output_type": "execute_result",
          "data": {
            "text/plain": [
              "[('Name', 'string'), ('Age', 'int'), ('Exp', 'int')]"
            ]
          },
          "metadata": {
            "tags": []
          },
          "execution_count": 26
        }
      ]
    },
    {
      "cell_type": "code",
      "metadata": {
        "colab": {
          "base_uri": "https://localhost:8080/"
        },
        "id": "rGDNQoO_cj8b",
        "outputId": "1abfb304-ed46-4b84-f602-3374bf3df310"
      },
      "source": [
        "#Describe spark dataframe\n",
        "spark_df.describe().show()"
      ],
      "execution_count": null,
      "outputs": [
        {
          "output_type": "stream",
          "text": [
            "+-------+-------+------------------+-----------------+\n",
            "|summary|   Name|               Age|              Exp|\n",
            "+-------+-------+------------------+-----------------+\n",
            "|  count|      3|                 3|                3|\n",
            "|   mean|   null|26.333333333333332|4.666666666666667|\n",
            "| stddev|   null|3.5118845842842465|4.725815626252609|\n",
            "|    min|  Anjan|                23|                1|\n",
            "|    max|Shabnam|                30|               10|\n",
            "+-------+-------+------------------+-----------------+\n",
            "\n"
          ],
          "name": "stdout"
        }
      ]
    },
    {
      "cell_type": "code",
      "metadata": {
        "colab": {
          "base_uri": "https://localhost:8080/"
        },
        "id": "MY35XZg6cxZ4",
        "outputId": "ceccb30f-089b-4f91-b406-9e17f87c976a"
      },
      "source": [
        "#Add column in spark dataframe\n",
        "spark_df = spark_df.withColumn('Exp After Two Year', spark_df['Exp']+2)\n",
        "spark_df.show()"
      ],
      "execution_count": null,
      "outputs": [
        {
          "output_type": "stream",
          "text": [
            "+-------+---+---+------------------+\n",
            "|   Name|Age|Exp|Exp After Two Year|\n",
            "+-------+---+---+------------------+\n",
            "|Saurabh| 26|  3|                 5|\n",
            "|Shabnam| 23|  1|                 3|\n",
            "|  Anjan| 30| 10|                12|\n",
            "+-------+---+---+------------------+\n",
            "\n"
          ],
          "name": "stdout"
        }
      ]
    },
    {
      "cell_type": "code",
      "metadata": {
        "id": "H_7lCE4jdSrJ"
      },
      "source": [
        "#Drop the column\n",
        "spark_df = spark_df.drop('Exp After Two Year')"
      ],
      "execution_count": null,
      "outputs": []
    },
    {
      "cell_type": "code",
      "metadata": {
        "colab": {
          "base_uri": "https://localhost:8080/"
        },
        "id": "1PIvCTMneeR_",
        "outputId": "18439d95-e208-4b3e-fd4d-f34e5c7a1283"
      },
      "source": [
        "spark_df.show()"
      ],
      "execution_count": null,
      "outputs": [
        {
          "output_type": "stream",
          "text": [
            "+-------+---+---+\n",
            "|   Name|Age|Exp|\n",
            "+-------+---+---+\n",
            "|Saurabh| 26|  3|\n",
            "|Shabnam| 23|  1|\n",
            "|  Anjan| 30| 10|\n",
            "+-------+---+---+\n",
            "\n"
          ],
          "name": "stdout"
        }
      ]
    },
    {
      "cell_type": "code",
      "metadata": {
        "colab": {
          "base_uri": "https://localhost:8080/"
        },
        "id": "h2WEuf_WeiHM",
        "outputId": "3397535a-922d-4a6d-ed67-8d17ee226f12"
      },
      "source": [
        "#Rename the column\n",
        "spark_df.withColumnRenamed('Exp', 'Experience').show()"
      ],
      "execution_count": null,
      "outputs": [
        {
          "output_type": "stream",
          "text": [
            "+-------+---+----------+\n",
            "|   Name|Age|Experience|\n",
            "+-------+---+----------+\n",
            "|Saurabh| 26|         3|\n",
            "|Shabnam| 23|         1|\n",
            "|  Anjan| 30|        10|\n",
            "+-------+---+----------+\n",
            "\n"
          ],
          "name": "stdout"
        }
      ]
    },
    {
      "cell_type": "code",
      "metadata": {
        "colab": {
          "base_uri": "https://localhost:8080/"
        },
        "id": "z3BTGgTLe2nD",
        "outputId": "92f431fb-d14e-4435-cef6-fae2fb132f5c"
      },
      "source": [
        "spark_df.schema"
      ],
      "execution_count": null,
      "outputs": [
        {
          "output_type": "execute_result",
          "data": {
            "text/plain": [
              "StructType(List(StructField(Name,StringType,true),StructField(Age,IntegerType,true),StructField(Exp,IntegerType,true)))"
            ]
          },
          "metadata": {
            "tags": []
          },
          "execution_count": 32
        }
      ]
    },
    {
      "cell_type": "code",
      "metadata": {
        "colab": {
          "base_uri": "https://localhost:8080/"
        },
        "id": "iVK2p6i-CEy6",
        "outputId": "a85b3e7b-6e63-44d8-f81a-91622a2fee2d"
      },
      "source": [
        "spark_df.dtypes"
      ],
      "execution_count": null,
      "outputs": [
        {
          "output_type": "execute_result",
          "data": {
            "text/plain": [
              "[('Name', 'string'), ('Age', 'int'), ('Exp', 'int')]"
            ]
          },
          "metadata": {
            "tags": []
          },
          "execution_count": 33
        }
      ]
    },
    {
      "cell_type": "code",
      "metadata": {
        "colab": {
          "base_uri": "https://localhost:8080/"
        },
        "id": "aNw76DjjDAEJ",
        "outputId": "80d366e4-f5bf-45dc-ed58-0ff6fa776a06"
      },
      "source": [
        "spark_df.head(5)"
      ],
      "execution_count": null,
      "outputs": [
        {
          "output_type": "execute_result",
          "data": {
            "text/plain": [
              "[Row(Name='Saurabh', Age=26, Exp=3),\n",
              " Row(Name='Shabnam', Age=23, Exp=1),\n",
              " Row(Name='Anjan', Age=30, Exp=10)]"
            ]
          },
          "metadata": {
            "tags": []
          },
          "execution_count": 34
        }
      ]
    },
    {
      "cell_type": "code",
      "metadata": {
        "colab": {
          "base_uri": "https://localhost:8080/"
        },
        "id": "_ND_YKa_DdMY",
        "outputId": "1f44e30b-4789-4505-da51-d2fa4b57e241"
      },
      "source": [
        "spark_df.first()"
      ],
      "execution_count": null,
      "outputs": [
        {
          "output_type": "execute_result",
          "data": {
            "text/plain": [
              "Row(Name='Saurabh', Age=26, Exp=3)"
            ]
          },
          "metadata": {
            "tags": []
          },
          "execution_count": 35
        }
      ]
    },
    {
      "cell_type": "code",
      "metadata": {
        "colab": {
          "base_uri": "https://localhost:8080/"
        },
        "id": "QjlkFs-ZEcNK",
        "outputId": "ca352c04-9cf5-4fe6-8720-8b106ee080c2"
      },
      "source": [
        "spark_df.columns"
      ],
      "execution_count": null,
      "outputs": [
        {
          "output_type": "execute_result",
          "data": {
            "text/plain": [
              "['Name', 'Age', 'Exp']"
            ]
          },
          "metadata": {
            "tags": []
          },
          "execution_count": 36
        }
      ]
    },
    {
      "cell_type": "code",
      "metadata": {
        "colab": {
          "base_uri": "https://localhost:8080/"
        },
        "id": "Q7iQuUa5E3vF",
        "outputId": "6f4655f9-2b37-4594-f76f-4732c2a7b209"
      },
      "source": [
        "spark_df.count()"
      ],
      "execution_count": null,
      "outputs": [
        {
          "output_type": "execute_result",
          "data": {
            "text/plain": [
              "3"
            ]
          },
          "metadata": {
            "tags": []
          },
          "execution_count": 37
        }
      ]
    },
    {
      "cell_type": "code",
      "metadata": {
        "colab": {
          "base_uri": "https://localhost:8080/"
        },
        "id": "tX3Mc2bxFQkd",
        "outputId": "cad23b02-9d34-4fd8-a836-a8d5e78fcd73"
      },
      "source": [
        "spark_df.show()"
      ],
      "execution_count": null,
      "outputs": [
        {
          "output_type": "stream",
          "text": [
            "+-------+---+---+\n",
            "|   Name|Age|Exp|\n",
            "+-------+---+---+\n",
            "|Saurabh| 26|  3|\n",
            "|Shabnam| 23|  1|\n",
            "|  Anjan| 30| 10|\n",
            "+-------+---+---+\n",
            "\n"
          ],
          "name": "stdout"
        }
      ]
    },
    {
      "cell_type": "code",
      "metadata": {
        "colab": {
          "base_uri": "https://localhost:8080/"
        },
        "id": "BjzBWZomFh1G",
        "outputId": "f76fa073-9e9c-4d58-bb15-ac5fe9d1d0de"
      },
      "source": [
        "spark_df = spark_df.withColumn('New Age', spark_df.Age*2)\n",
        "spark_df.show(5)"
      ],
      "execution_count": null,
      "outputs": [
        {
          "output_type": "stream",
          "text": [
            "+-------+---+---+----+-------+\n",
            "|   Name|Age|Exp|date|New Age|\n",
            "+-------+---+---+----+-------+\n",
            "|Saurabh| 26|  3|  52|     52|\n",
            "|Shabnam| 23|  1|  46|     46|\n",
            "|  Anjan| 30| 10|  60|     60|\n",
            "+-------+---+---+----+-------+\n",
            "\n"
          ],
          "name": "stdout"
        }
      ]
    },
    {
      "cell_type": "code",
      "metadata": {
        "colab": {
          "base_uri": "https://localhost:8080/"
        },
        "id": "g7C8oX8gGSH8",
        "outputId": "9b9ee626-d41a-42d4-b840-546dad1d1cb0"
      },
      "source": [
        "spark_df = spark_df.withColumnRenamed('Name', 'New Name')\n",
        "spark_df.show(5)"
      ],
      "execution_count": null,
      "outputs": [
        {
          "output_type": "stream",
          "text": [
            "+--------+---+---+--------+-------+\n",
            "|New Name|Age|Exp|New Name|New Age|\n",
            "+--------+---+---+--------+-------+\n",
            "| Saurabh| 26|  3|      52|     52|\n",
            "| Shabnam| 23|  1|      46|     46|\n",
            "|   Anjan| 30| 10|      60|     60|\n",
            "+--------+---+---+--------+-------+\n",
            "\n"
          ],
          "name": "stdout"
        }
      ]
    },
    {
      "cell_type": "code",
      "metadata": {
        "colab": {
          "base_uri": "https://localhost:8080/"
        },
        "id": "CnF952exHcpJ",
        "outputId": "81a29059-c523-43ee-ccbd-f9448db8a89c"
      },
      "source": [
        "spark_df = spark_df.drop('New Age')\n",
        "spark_df.show(5)"
      ],
      "execution_count": null,
      "outputs": [
        {
          "output_type": "stream",
          "text": [
            "+--------+---+---+--------+\n",
            "|New Name|Age|Exp|New Name|\n",
            "+--------+---+---+--------+\n",
            "| Saurabh| 26|  3|      52|\n",
            "| Shabnam| 23|  1|      46|\n",
            "|   Anjan| 30| 10|      60|\n",
            "+--------+---+---+--------+\n",
            "\n"
          ],
          "name": "stdout"
        }
      ]
    },
    {
      "cell_type": "code",
      "metadata": {
        "colab": {
          "base_uri": "https://localhost:8080/"
        },
        "id": "riiBq43IIWRo",
        "outputId": "24acfc14-a452-4a33-8696-f1b344f91d4e"
      },
      "source": [
        "from pyspark.sql.functions import col, lit\n",
        "spark_df.filter( (col('Age') >= lit(25)) & (col('Age') <= lit(30)) ).show(5)"
      ],
      "execution_count": null,
      "outputs": [
        {
          "output_type": "stream",
          "text": [
            "+--------+---+---+--------+\n",
            "|New Name|Age|Exp|New Name|\n",
            "+--------+---+---+--------+\n",
            "| Saurabh| 26|  3|      52|\n",
            "|   Anjan| 30| 10|      60|\n",
            "+--------+---+---+--------+\n",
            "\n"
          ],
          "name": "stdout"
        }
      ]
    },
    {
      "cell_type": "code",
      "metadata": {
        "colab": {
          "base_uri": "https://localhost:8080/"
        },
        "id": "8YxnkYg-Ku5o",
        "outputId": "25e6649a-fd65-455d-bf87-2f5266509e4a"
      },
      "source": [
        "## fetch the data where the Age value is between 25 and 30\n",
        "spark_df.filter(spark_df.Age.between(25, 30)).show()"
      ],
      "execution_count": null,
      "outputs": [
        {
          "output_type": "stream",
          "text": [
            "+--------+---+---+--------+\n",
            "|New Name|Age|Exp|New Name|\n",
            "+--------+---+---+--------+\n",
            "| Saurabh| 26|  3|      52|\n",
            "|   Anjan| 30| 10|      60|\n",
            "+--------+---+---+--------+\n",
            "\n"
          ],
          "name": "stdout"
        }
      ]
    },
    {
      "cell_type": "code",
      "metadata": {
        "colab": {
          "base_uri": "https://localhost:8080/"
        },
        "id": "Lv30QZckLJ76",
        "outputId": "ddad48d3-9d38-41de-cd07-17539d7952a1"
      },
      "source": [
        "from pyspark.sql.functions import when\n",
        "spark_df.select('Age', 'Exp', when(spark_df.Exp >= 5, 1).otherwise(0)).show(5)"
      ],
      "execution_count": null,
      "outputs": [
        {
          "output_type": "stream",
          "text": [
            "+---+---+--------------------------------------+\n",
            "|Age|Exp|CASE WHEN (Exp >= 5) THEN 1 ELSE 0 END|\n",
            "+---+---+--------------------------------------+\n",
            "| 26|  3|                                     0|\n",
            "| 23|  1|                                     0|\n",
            "| 30| 10|                                     1|\n",
            "+---+---+--------------------------------------+\n",
            "\n"
          ],
          "name": "stdout"
        }
      ]
    },
    {
      "cell_type": "code",
      "metadata": {
        "colab": {
          "base_uri": "https://localhost:8080/"
        },
        "id": "6ONmCNTVL0-6",
        "outputId": "0311b39c-8649-4ea0-b6a6-3b05a5d9e329"
      },
      "source": [
        "spark_df.select('Name', spark_df['Name'].rlike('^[S, C]').alias('Name Starting with B or C')).distinct().show()"
      ],
      "execution_count": null,
      "outputs": [
        {
          "output_type": "stream",
          "text": [
            "+-------+-------------------------+\n",
            "|   Name|Name Starting with B or C|\n",
            "+-------+-------------------------+\n",
            "|Saurabh|                     true|\n",
            "|Shabnam|                     true|\n",
            "|  Anjan|                    false|\n",
            "+-------+-------------------------+\n",
            "\n"
          ],
          "name": "stdout"
        }
      ]
    },
    {
      "cell_type": "code",
      "metadata": {
        "id": "H-EFPSN8NXCQ"
      },
      "source": [
        ""
      ],
      "execution_count": null,
      "outputs": []
    }
  ]
}